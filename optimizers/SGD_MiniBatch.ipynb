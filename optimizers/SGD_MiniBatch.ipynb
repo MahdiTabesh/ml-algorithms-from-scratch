{
 "cells": [
  {
   "cell_type": "markdown",
   "id": "c00e54b2-0e87-4252-a512-6cd5c3f05d72",
   "metadata": {},
   "source": [
    "# Mini-Batch Stochastic Gradient Descent (SGD) in PyTorch\n",
    "\n",
    "This notebook demonstrates **mini-batch SGD** using a simple logistic-regression model on a toy dataset.\n",
    "\n",
    "## 🔹 Learning Goals\n",
    "- Understand the difference between **vanilla SGD** and **mini-batch SGD**.\n",
    "- Train with PyTorch’s **`DataLoader`** (primary) and see a **manual mini-batch** implementation (appendix).\n",
    "- Use tidy helpers: `train_one_epoch(...)` and `evaluate(...)`.\n",
    "- Track **loss** and **accuracy** succinctly.\n"
   ]
  },
  {
   "cell_type": "code",
   "execution_count": 2,
   "id": "b9433e4e-fc5e-4d5b-95a8-d51abe1f56b5",
   "metadata": {},
   "outputs": [],
   "source": [
    "import math\n",
    "import torch\n",
    "import torch.nn as nn\n",
    "from torch.utils.data import DataLoader, TensorDataset\n",
    "\n",
    "torch.manual_seed(0)\n",
    "\n",
    "# Hyperparameters\n",
    "lr       = 0.1\n",
    "epochs   = 100\n",
    "batch_sz = 16\n"
   ]
  },
  {
   "cell_type": "code",
   "execution_count": 9,
   "id": "b4e65951-af11-4719-be28-323a97d5ca9a",
   "metadata": {},
   "outputs": [],
   "source": [
    "# 2D toy data\n",
    "N, D = 100, 2\n",
    "X = torch.randn(N, D)\n",
    "\n",
    "y = (X[:, 0] + X[:, 1] > 0).float().unsqueeze(1)\n",
    "\n",
    "# Dataset / DataLoader\n",
    "ds     = TensorDataset(X, y)\n",
    "loader = DataLoader(ds, batch_size=batch_sz, shuffle=True, drop_last=False)\n"
   ]
  },
  {
   "cell_type": "code",
   "execution_count": 10,
   "id": "b14d2ab3-68bb-4046-92b0-0eac56b5dd8d",
   "metadata": {},
   "outputs": [],
   "source": [
    "# Logistic regression\n",
    "model    = nn.Linear(D, 1)\n",
    "criterion = nn.BCEWithLogitsLoss()\n",
    "optimizer = torch.optim.SGD(model.parameters(), lr=lr)\n"
   ]
  },
  {
   "cell_type": "code",
   "execution_count": 5,
   "id": "f7019fdd-d9ae-4044-baaf-19a4b1206bce",
   "metadata": {},
   "outputs": [],
   "source": [
    "def train_one_epoch(loader, model, criterion, optimizer):\n",
    "    model.train()\n",
    "    total, n = 0.0, 0\n",
    "    for xb, yb in loader:\n",
    "        optimizer.zero_grad()\n",
    "        loss = criterion(model(xb), yb)\n",
    "        loss.backward()\n",
    "        optimizer.step()\n",
    "        total += loss.item() * xb.size(0)\n",
    "        n += xb.size(0)\n",
    "    return total / n\n",
    "\n",
    "@torch.no_grad()\n",
    "def evaluate(X, y, model):\n",
    "    model.eval()\n",
    "    preds = (torch.sigmoid(model(X)) >= 0.5).float()\n",
    "    return (preds == y).float().mean().item()\n"
   ]
  },
  {
   "cell_type": "markdown",
   "id": "b7dc82f2-5b63-4d4e-901e-4f6b3e550058",
   "metadata": {},
   "source": [
    "## 3A. Mini-Batch SGD with `DataLoader` (Primary)\n",
    "\n",
    "We train using PyTorch’s built-in **`DataLoader`**, which handles:\n",
    "- shuffling each epoch\n",
    "- efficient mini-batching\n",
    "\n",
    "**SGD update:**\n",
    "$$\n",
    "\\theta \\leftarrow \\theta - \\eta \\, \\nabla_\\theta \\mathcal{L}(\\theta;\\text{batch})\n",
    "$$\n"
   ]
  },
  {
   "cell_type": "code",
   "execution_count": 6,
   "id": "3a429738-93be-4296-bc62-39aed2a54711",
   "metadata": {},
   "outputs": [
    {
     "name": "stdout",
     "output_type": "stream",
     "text": [
      "Epoch  10 | loss=0.3581 | acc=91.00%\n",
      "Epoch  20 | loss=0.2695 | acc=95.00%\n",
      "Epoch  30 | loss=0.2317 | acc=96.00%\n",
      "Epoch  40 | loss=0.2086 | acc=96.00%\n",
      "Epoch  50 | loss=0.1925 | acc=98.00%\n",
      "Epoch  60 | loss=0.1806 | acc=98.00%\n",
      "Epoch  70 | loss=0.1712 | acc=98.00%\n",
      "Epoch  80 | loss=0.1636 | acc=98.00%\n",
      "Epoch  90 | loss=0.1570 | acc=98.00%\n",
      "Epoch 100 | loss=0.1515 | acc=98.00%\n"
     ]
    }
   ],
   "source": [
    "# Re-init model/optim for a clean run\n",
    "model     = nn.Linear(D, 1)\n",
    "criterion = nn.BCEWithLogitsLoss()\n",
    "optimizer = torch.optim.SGD(model.parameters(), lr=lr)\n",
    "\n",
    "for epoch in range(1, epochs + 1):\n",
    "    avg_loss = train_one_epoch(loader, model, criterion, optimizer)\n",
    "    if epoch % 10 == 0:\n",
    "        acc = evaluate(X, y, model) * 100\n",
    "        print(f\"Epoch {epoch:3d} | loss={avg_loss:.4f} | acc={acc:.2f}%\")\n"
   ]
  },
  {
   "cell_type": "markdown",
   "id": "e3fc2de4-f8ce-4f95-935b-ef13b0536451",
   "metadata": {},
   "source": [
    "## 3B. Manual Mini-Batch (No `DataLoader`)\n",
    "\n",
    "For learning only: re-implement mini-batching by hand (shuffle indices, slice batches).  \n",
    "This mirrors what `DataLoader` does, but is more verbose.\n"
   ]
  },
  {
   "cell_type": "code",
   "execution_count": 8,
   "id": "12701d7b-4b89-4901-aba6-f568e30338a4",
   "metadata": {},
   "outputs": [
    {
     "name": "stdout",
     "output_type": "stream",
     "text": [
      "[Manual] Epoch 01 | loss=0.8691 | acc=44.00%\n",
      "[Manual] Epoch 05 | loss=0.4847 | acc=90.00%\n",
      "[Manual] Epoch 10 | loss=0.3526 | acc=96.00%\n",
      "[Manual] Epoch 15 | loss=0.2987 | acc=94.00%\n",
      "[Manual] Epoch 20 | loss=0.2672 | acc=94.00%\n"
     ]
    }
   ],
   "source": [
    "# Manual mini-batching (no DataLoader), with optimizer-based updates (still PyTorch SGD)\n",
    "\n",
    "# Fresh model to compare fairly\n",
    "model2     = nn.Linear(D, 1)\n",
    "criterion2 = nn.BCEWithLogitsLoss()\n",
    "optimizer2 = torch.optim.SGD(model2.parameters(), lr=lr)\n",
    "\n",
    "num_batches = math.ceil(N / batch_sz)\n",
    "\n",
    "for epoch in range(1, 21):  # shorter appendix run\n",
    "    perm = torch.randperm(N)\n",
    "    total_loss = 0.0\n",
    "\n",
    "    for i in range(0, N, batch_sz):\n",
    "        idx = perm[i:i+batch_sz]\n",
    "        xb, yb = X[idx], y[idx]\n",
    "\n",
    "        optimizer2.zero_grad()\n",
    "        logits = model2(xb)\n",
    "        loss   = criterion2(logits, yb)\n",
    "        loss.backward()\n",
    "        optimizer2.step()\n",
    "\n",
    "        total_loss += loss.item() * xb.size(0)\n",
    "\n",
    "    if epoch % 5 == 0 or epoch == 1:\n",
    "        avg_loss = total_loss / N\n",
    "        acc = evaluate(X, y, model2) * 100\n",
    "        print(f\"[Manual] Epoch {epoch:02d} | loss={avg_loss:.4f} | acc={acc:.2f}%\")\n"
   ]
  },
  {
   "cell_type": "markdown",
   "id": "9d716d33-04a7-4024-9b51-c13f8b126d62",
   "metadata": {},
   "source": [
    "## ✅ Results & Notes\n",
    "\n",
    "- Both **3A (DataLoader)** and **3B (manual)** converge quickly on this toy dataset.\n",
    "- Prefer **3A** in real projects: it’s cleaner, faster to write, and less error-prone.\n",
    "- This notebook shows the **mechanics of mini-batch SGD** and a tidy training pattern using helpers.\n"
   ]
  },
  {
   "cell_type": "code",
   "execution_count": null,
   "id": "353ddc09-eccc-4638-973b-a06e84685965",
   "metadata": {},
   "outputs": [],
   "source": []
  }
 ],
 "metadata": {
  "kernelspec": {
   "display_name": "Python (pytorch-dev)",
   "language": "python",
   "name": "pytorch-dev"
  },
  "language_info": {
   "codemirror_mode": {
    "name": "ipython",
    "version": 3
   },
   "file_extension": ".py",
   "mimetype": "text/x-python",
   "name": "python",
   "nbconvert_exporter": "python",
   "pygments_lexer": "ipython3",
   "version": "3.10.16"
  }
 },
 "nbformat": 4,
 "nbformat_minor": 5
}
