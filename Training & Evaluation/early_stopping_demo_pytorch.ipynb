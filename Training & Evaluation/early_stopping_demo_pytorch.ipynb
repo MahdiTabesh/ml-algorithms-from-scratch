{
 "cells": [
  {
   "cell_type": "markdown",
   "id": "2b89fab7-e80f-49e1-9840-17a6ac26ef6c",
   "metadata": {},
   "source": [
    "# Adding Early Stopping to Training Loop\n",
    "\n",
    "### What is Early Stopping?\n",
    "Early stopping is a **regularization technique** that helps prevent overfitting during training.  \n",
    "Instead of training for a fixed number of epochs, we **monitor validation performance** (usually validation loss) and **stop training once the model stops improving**.\n",
    "\n",
    "---\n",
    "\n",
    "### How Early Stopping Works\n",
    "1. **Monitor a Metric**: Track validation loss (or accuracy) at the end of each epoch.  \n",
    "2. **Define Patience**: If the chosen metric does not improve for a specified number of epochs, stop training early.  \n",
    "3. **Save Best Weights**: Optionally restore the model to the state where it had the best validation performance.\n",
    "\n",
    "---\n",
    "\n",
    "### Benefits\n",
    "- Prevents **overfitting** by stopping before the model memorizes training data.  \n",
    "- **Saves compute resources** and reduces training time.  \n",
    "- Often results in better **generalization** on unseen data.  \n",
    "\n",
    "---\n",
    "\n",
    "### Training Loop with Early Stopping\n",
    "- After each epoch:\n",
    "  - Compute validation loss.  \n",
    "  - Compare with the best loss so far.  \n",
    "  - If improvement → save weights and reset patience counter.  \n",
    "  - If no improvement → increase patience counter.  \n",
    "  - Stop training if patience counter exceeds threshold.\n",
    "\n",
    "---\n",
    "\n",
    "### Next Steps\n",
    "In this notebook, we will:\n",
    "1. Implement a **training loop with validation evaluation**.  \n",
    "2. Add an **early stopping mechanism**.  \n",
    "3. Visualize how early stopping affects training compared to fixed-epoch training.\n"
   ]
  },
  {
   "cell_type": "code",
   "execution_count": null,
   "id": "92992a5b-0e16-4175-8b18-fa8509ccd6f4",
   "metadata": {},
   "outputs": [],
   "source": []
  },
  {
   "cell_type": "code",
   "execution_count": 1,
   "id": "6ef167a9-00fb-40e0-996c-adb2f3eab9fb",
   "metadata": {},
   "outputs": [],
   "source": [
    "import math, os\n",
    "from pathlib import Path\n",
    "import numpy as np\n",
    "import torch\n",
    "from torch import nn\n",
    "from torch.utils.data import Dataset, DataLoader, random_split\n",
    "import matplotlib.pyplot as plt"
   ]
  },
  {
   "cell_type": "code",
   "execution_count": 2,
   "id": "d0bce1aa-0c7c-47cd-b3ca-dcd79bdb2a42",
   "metadata": {},
   "outputs": [
    {
     "name": "stdout",
     "output_type": "stream",
     "text": [
      "Device: cuda\n"
     ]
    }
   ],
   "source": [
    "# 1) Reproducibility & device\n",
    "SEED = 42\n",
    "torch.manual_seed(SEED)\n",
    "np.random.seed(SEED)\n",
    "device = torch.device(\"cuda\" if torch.cuda.is_available() else \"cpu\")\n",
    "print(\"Device:\", device)"
   ]
  },
  {
   "cell_type": "code",
   "execution_count": 3,
   "id": "34c6be29-21b6-46a8-8fb1-487e0ca861e1",
   "metadata": {},
   "outputs": [],
   "source": [
    "# 2) Toy dataset (two 2D Gaussian blobs)\n",
    "class BlobsDataset(Dataset):\n",
    "    def __init__(self, n_per_class=2500, std=1.2):\n",
    "        # Two Gaussian blobs centered at (-2,-2) and (2,2)\n",
    "        c0 = np.random.randn(n_per_class, 2) * std + np.array([-2.0, -2.0])\n",
    "        c1 = np.random.randn(n_per_class, 2) * std + np.array([ 2.0,  2.0])\n",
    "        X = np.vstack([c0, c1]).astype(np.float32)\n",
    "        y = np.concatenate([np.zeros(n_per_class), np.ones(n_per_class)]).astype(np.float32)\n",
    "\n",
    "        # Shuffle\n",
    "        idx = np.random.permutation(len(X))\n",
    "        self.X = torch.from_numpy(X[idx])\n",
    "        self.y = torch.from_numpy(y[idx]).unsqueeze(1)  # (N,1) for BCEWithLogitsLoss\n",
    "\n",
    "    def __len__(self):\n",
    "        return len(self.X)\n",
    "\n",
    "    def __getitem__(self, i):\n",
    "        return self.X[i], self.y[i]\n",
    "\n",
    "dataset = BlobsDataset(n_per_class=2500, std=1.2)\n",
    "\n",
    "# Train/val split (80/20)\n",
    "n_total = len(dataset)\n",
    "n_train = int(n_total * 0.8)\n",
    "n_val = n_total - n_train\n",
    "train_set, val_set = random_split(dataset, [n_train, n_val], generator=torch.Generator().manual_seed(SEED))\n",
    "\n",
    "train_loader = DataLoader(train_set, batch_size=128, shuffle=True, drop_last=False)\n",
    "val_loader   = DataLoader(val_set,   batch_size=256, shuffle=False, drop_last=False)"
   ]
  },
  {
   "cell_type": "code",
   "execution_count": 4,
   "id": "c7eb6985-3902-48ed-a2f8-21c77c06ec64",
   "metadata": {},
   "outputs": [],
   "source": [
    "# 3) Model\n",
    "class MLP(nn.Module):\n",
    "    def __init__(self, in_dim=2, hidden=64):\n",
    "        super().__init__()\n",
    "        self.net = nn.Sequential(\n",
    "            nn.Linear(in_dim, hidden),\n",
    "            nn.ReLU(),\n",
    "            nn.Linear(hidden, hidden),\n",
    "            nn.ReLU(),\n",
    "            nn.Linear(hidden, 1)  # logits for binary classification\n",
    "        )\n",
    "    def forward(self, x):\n",
    "        return self.net(x)\n",
    "\n",
    "model = MLP().to(device)\n",
    "criterion = nn.BCEWithLogitsLoss()\n",
    "optimizer = torch.optim.Adam(model.parameters(), lr=1e-3)"
   ]
  },
  {
   "cell_type": "code",
   "execution_count": 5,
   "id": "088fa14a-df18-414b-9816-7ee386dfa8d1",
   "metadata": {},
   "outputs": [],
   "source": [
    "# 4) Evaluation helper\n",
    "@torch.no_grad()\n",
    "def evaluate(model, loader, criterion):\n",
    "    model.eval()\n",
    "    total_loss = 0.0\n",
    "    correct = 0\n",
    "    total = 0\n",
    "    for xb, yb in loader:\n",
    "        xb, yb = xb.to(device), yb.to(device)\n",
    "        logits = model(xb)\n",
    "        loss = criterion(logits, yb)\n",
    "        total_loss += loss.item() * xb.size(0)\n",
    "\n",
    "        probs = torch.sigmoid(logits)\n",
    "        preds = (probs >= 0.5).float()\n",
    "        correct += (preds == yb).sum().item()\n",
    "        total += xb.size(0)\n",
    "\n",
    "    return total_loss / total, correct / total"
   ]
  },
  {
   "cell_type": "markdown",
   "id": "64e13b76-8546-469b-a967-e9f397abaaf0",
   "metadata": {},
   "source": [
    "### 🛑 EarlyStopping Utility\n",
    "\n",
    "To prevent **overfitting** and reduce unnecessary training, we implement an **EarlyStopping** class.  \n",
    "This utility monitors the **validation loss** during training and stops the loop once performance no longer improves.\n",
    "\n",
    "**Key ideas:**\n",
    "- **Patience**: Number of epochs to wait after no improvement before stopping.  \n",
    "- **min_delta**: Minimum improvement in validation loss required to reset the patience counter.  \n",
    "- **Checkpointing**: The model weights from the epoch with the best validation loss are saved to disk (`ckpt_path`).  \n",
    "\n",
    "**Workflow:**\n",
    "1. After each validation step, call `early_stopper.step(val_loss, epoch, model)`.  \n",
    "2. If the validation loss improves, the best weights are saved and patience counter resets.  \n",
    "3. If no improvement for `patience` epochs, training stops early.  \n",
    "4. After training, restore the model from the saved best weights for final evaluation.  \n",
    "\n",
    "This ensures we keep the **best-performing model** without over-training.\n"
   ]
  },
  {
   "cell_type": "code",
   "execution_count": 6,
   "id": "df704c65-468c-4d4f-896b-48b2dd2ec7ca",
   "metadata": {},
   "outputs": [],
   "source": [
    "# 5) EarlyStopping utility\n",
    "class EarlyStopping:\n",
    "    \"\"\"\n",
    "    Stops training when val_loss hasn't improved for `patience` epochs\n",
    "    by at least `min_delta`. Saves the best model to `ckpt_path`.\n",
    "    \"\"\"\n",
    "    def __init__(self, patience=10, min_delta=1e-4, ckpt_path=\"/mnt/data/best_model.pth\"):\n",
    "        self.patience = patience\n",
    "        self.min_delta = min_delta\n",
    "        self.best = math.inf\n",
    "        self.num_bad_epochs = 0\n",
    "        self.best_epoch = -1\n",
    "        self.ckpt_path = ckpt_path\n",
    "\n",
    "    def step(self, val_loss, epoch, model):\n",
    "        improved = val_loss < (self.best - self.min_delta)\n",
    "        if improved:\n",
    "            self.best = val_loss\n",
    "            self.num_bad_epochs = 0\n",
    "            self.best_epoch = epoch\n",
    "            # Save best weights\n",
    "            Path(os.path.dirname(self.ckpt_path)).mkdir(parents=True, exist_ok=True)\n",
    "            torch.save(model.state_dict(), self.ckpt_path)\n",
    "        else:\n",
    "            self.num_bad_epochs += 1\n",
    "        # Return True if we should stop\n",
    "        return self.num_bad_epochs > self.patience"
   ]
  },
  {
   "cell_type": "code",
   "execution_count": 7,
   "id": "0fa882bd-32a0-4199-88ac-7f04d5fd045b",
   "metadata": {},
   "outputs": [
    {
     "name": "stdout",
     "output_type": "stream",
     "text": [
      "Epoch 001 | Train Loss 0.2787 Acc 0.9848 | Val Loss 0.0880 Acc 0.9920 | Bad 0/10\n",
      "Epoch 002 | Train Loss 0.0567 Acc 0.9905 | Val Loss 0.0330 Acc 0.9930 | Bad 0/10\n",
      "Epoch 003 | Train Loss 0.0324 Acc 0.9910 | Val Loss 0.0262 Acc 0.9930 | Bad 0/10\n",
      "Epoch 004 | Train Loss 0.0278 Acc 0.9920 | Val Loss 0.0237 Acc 0.9930 | Bad 0/10\n",
      "Epoch 005 | Train Loss 0.0262 Acc 0.9910 | Val Loss 0.0222 Acc 0.9920 | Bad 0/10\n",
      "Epoch 006 | Train Loss 0.0254 Acc 0.9910 | Val Loss 0.0223 Acc 0.9920 | Bad 1/10\n",
      "Epoch 007 | Train Loss 0.0251 Acc 0.9905 | Val Loss 0.0218 Acc 0.9920 | Bad 0/10\n",
      "Epoch 008 | Train Loss 0.0248 Acc 0.9908 | Val Loss 0.0221 Acc 0.9920 | Bad 1/10\n",
      "Epoch 009 | Train Loss 0.0246 Acc 0.9910 | Val Loss 0.0217 Acc 0.9920 | Bad 0/10\n",
      "Epoch 010 | Train Loss 0.0245 Acc 0.9910 | Val Loss 0.0222 Acc 0.9920 | Bad 1/10\n",
      "Epoch 011 | Train Loss 0.0244 Acc 0.9908 | Val Loss 0.0222 Acc 0.9920 | Bad 2/10\n",
      "Epoch 012 | Train Loss 0.0244 Acc 0.9910 | Val Loss 0.0224 Acc 0.9920 | Bad 3/10\n",
      "Epoch 013 | Train Loss 0.0242 Acc 0.9912 | Val Loss 0.0218 Acc 0.9920 | Bad 4/10\n",
      "Epoch 014 | Train Loss 0.0243 Acc 0.9908 | Val Loss 0.0210 Acc 0.9920 | Bad 0/10\n",
      "Epoch 015 | Train Loss 0.0245 Acc 0.9905 | Val Loss 0.0222 Acc 0.9920 | Bad 1/10\n",
      "Epoch 016 | Train Loss 0.0240 Acc 0.9908 | Val Loss 0.0214 Acc 0.9920 | Bad 2/10\n",
      "Epoch 017 | Train Loss 0.0241 Acc 0.9908 | Val Loss 0.0221 Acc 0.9920 | Bad 3/10\n",
      "Epoch 018 | Train Loss 0.0241 Acc 0.9910 | Val Loss 0.0220 Acc 0.9920 | Bad 4/10\n",
      "Epoch 019 | Train Loss 0.0240 Acc 0.9910 | Val Loss 0.0218 Acc 0.9920 | Bad 5/10\n",
      "Epoch 020 | Train Loss 0.0243 Acc 0.9910 | Val Loss 0.0213 Acc 0.9920 | Bad 6/10\n",
      "Epoch 021 | Train Loss 0.0240 Acc 0.9905 | Val Loss 0.0220 Acc 0.9920 | Bad 7/10\n",
      "Epoch 022 | Train Loss 0.0241 Acc 0.9910 | Val Loss 0.0221 Acc 0.9920 | Bad 8/10\n",
      "Epoch 023 | Train Loss 0.0239 Acc 0.9912 | Val Loss 0.0223 Acc 0.9920 | Bad 9/10\n",
      "Epoch 024 | Train Loss 0.0239 Acc 0.9912 | Val Loss 0.0222 Acc 0.9920 | Bad 10/10\n",
      "Epoch 025 | Train Loss 0.0239 Acc 0.9908 | Val Loss 0.0218 Acc 0.9920 | Bad 11/10\n",
      "\n",
      "Early stopping at epoch 25. Best epoch = 14, best val loss = 0.0210\n"
     ]
    }
   ],
   "source": [
    "# 6) Train loop with Early Stopping\n",
    "num_epochs = 200\n",
    "early_stopper = EarlyStopping(patience=10, min_delta=1e-4, ckpt_path=\"checkpoints/best_model.pth\")\n",
    "\n",
    "history = {\"train_loss\": [], \"val_loss\": [], \"train_acc\": [], \"val_acc\": []}\n",
    "\n",
    "for epoch in range(1, num_epochs + 1):\n",
    "    # Train phase\n",
    "    model.train()\n",
    "    running_loss, correct, total = 0.0, 0, 0\n",
    "    for xb, yb in train_loader:\n",
    "        xb, yb = xb.to(device), yb.to(device)\n",
    "\n",
    "        optimizer.zero_grad(set_to_none=True)\n",
    "        logits = model(xb)\n",
    "        loss = criterion(logits, yb)\n",
    "        loss.backward()\n",
    "        optimizer.step()\n",
    "\n",
    "        running_loss += loss.item() * xb.size(0)\n",
    "        preds = (torch.sigmoid(logits) >= 0.5).float()\n",
    "        correct += (preds == yb).sum().item()\n",
    "        total += xb.size(0)\n",
    "\n",
    "    train_loss = running_loss / total\n",
    "    train_acc  = correct / total\n",
    "\n",
    "    # Validation\n",
    "    val_loss, val_acc = evaluate(model, val_loader, criterion)\n",
    "\n",
    "    # Log\n",
    "    history[\"train_loss\"].append(train_loss)\n",
    "    history[\"val_loss\"].append(val_loss)\n",
    "    history[\"train_acc\"].append(train_acc)\n",
    "    history[\"val_acc\"].append(val_acc)\n",
    "\n",
    "    # Early stopping check\n",
    "    stop = early_stopper.step(val_loss, epoch, model)\n",
    "\n",
    "    print(f\"Epoch {epoch:03d} | \"\n",
    "          f\"Train Loss {train_loss:.4f} Acc {train_acc:.4f} | \"\n",
    "          f\"Val Loss {val_loss:.4f} Acc {val_acc:.4f} | \"\n",
    "          f\"Bad {early_stopper.num_bad_epochs}/{early_stopper.patience}\")\n",
    "\n",
    "    if stop:\n",
    "        print(f\"\\nEarly stopping at epoch {epoch}. \"\n",
    "              f\"Best epoch = {early_stopper.best_epoch}, \"\n",
    "              f\"best val loss = {early_stopper.best:.4f}\")\n",
    "        break"
   ]
  },
  {
   "cell_type": "code",
   "execution_count": 8,
   "id": "b7cf4a94-251e-43b0-9389-2ca1987b86b3",
   "metadata": {},
   "outputs": [
    {
     "name": "stdout",
     "output_type": "stream",
     "text": [
      "Final (best) -> Val Loss: 0.0218 | Val Acc: 0.9920\n"
     ]
    }
   ],
   "source": [
    "# 7) Restore best weights & final eval\n",
    "ckpt_path = \"/mnt/data/best_model.pth\"\n",
    "if os.path.exists(ckpt_path):\n",
    "    model.load_state_dict(torch.load(ckpt_path, map_location=device))\n",
    "    print(f\"\\nRestored best weights from: {ckpt_path}\")\n",
    "\n",
    "best_val_loss, best_val_acc = evaluate(model, val_loader, criterion)\n",
    "print(f\"Final (best) -> Val Loss: {best_val_loss:.4f} | Val Acc: {best_val_acc:.4f}\")"
   ]
  },
  {
   "cell_type": "code",
   "execution_count": 9,
   "id": "41f89b3a-a6ac-441b-a4bb-7241a069199c",
   "metadata": {},
   "outputs": [
    {
     "data": {
      "image/png": "[encoded data removed]",
      "text/plain": [
       "<Figure size 640x480 with 1 Axes>"
      ]
     },
     "metadata": {},
     "output_type": "display_data"
    },
    {
     "data": {
      "image/png": "[encoded data removed]",
      "text/plain": [
       "<Figure size 640x480 with 1 Axes>"
      ]
     },
     "metadata": {},
     "output_type": "display_data"
    },
    {
     "name": "stdout",
     "output_type": "stream",
     "text": [
      "Best checkpoint saved at: /mnt/data/best_model.pth\n"
     ]
    }
   ],
   "source": [
    "# 8) Plot curves\n",
    "plt.figure()\n",
    "plt.plot(history[\"train_loss\"], label=\"train_loss\")\n",
    "plt.plot(history[\"val_loss\"], label=\"val_loss\")\n",
    "plt.title(\"Loss over epochs\")\n",
    "plt.xlabel(\"Epoch\"); plt.ylabel(\"Loss\"); plt.legend(); plt.show()\n",
    "\n",
    "plt.figure()\n",
    "plt.plot(history[\"train_acc\"], label=\"train_acc\")\n",
    "plt.plot(history[\"val_acc\"], label=\"val_acc\")\n",
    "plt.title(\"Accuracy over epochs\")\n",
    "plt.xlabel(\"Epoch\"); plt.ylabel(\"Accuracy\"); plt.legend(); plt.show()\n",
    "\n",
    "print(\"Best checkpoint saved at:\", ckpt_path)"
   ]
  },
  {
   "cell_type": "code",
   "execution_count": null,
   "id": "8e277d48-4dcc-425f-a786-c37664861058",
   "metadata": {},
   "outputs": [],
   "source": []
  }
 ],
 "metadata": {
  "kernelspec": {
   "display_name": "Python (pytorch-dev)",
   "language": "python",
   "name": "pytorch-dev"
  },
  "language_info": {
   "codemirror_mode": {
    "name": "ipython",
    "version": 3
   },
   "file_extension": ".py",
   "mimetype": "text/x-python",
   "name": "python",
   "nbconvert_exporter": "python",
   "pygments_lexer": "ipython3",
   "version": "3.10.16"
  }
 },
 "nbformat": 4,
 "nbformat_minor": 5
}
