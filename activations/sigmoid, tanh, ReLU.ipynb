{
 "cells": [
  {
   "cell_type": "code",
   "execution_count": 2,
   "id": "3e0f9643-728c-4727-954b-3a094d418cff",
   "metadata": {},
   "outputs": [
    {
     "name": "stdout",
     "output_type": "stream",
     "text": [
      "Hello Activation Functions!\n"
     ]
    }
   ],
   "source": [
    "print('Hello Activation Functions!')"
   ]
  },
  {
   "cell_type": "code",
   "execution_count": null,
   "id": "d91ef0ee-534b-4b08-aa9b-23a0147a54b3",
   "metadata": {},
   "outputs": [],
   "source": []
  }
 ],
 "metadata": {
  "kernelspec": {
   "display_name": "Python (pytorch-dev)",
   "language": "python",
   "name": "pytorch-dev"
  },
  "language_info": {
   "codemirror_mode": {
    "name": "ipython",
    "version": 3
   },
   "file_extension": ".py",
   "mimetype": "text/x-python",
   "name": "python",
   "nbconvert_exporter": "python",
   "pygments_lexer": "ipython3",
   "version": "3.10.16"
  }
 },
 "nbformat": 4,
 "nbformat_minor": 5
}
